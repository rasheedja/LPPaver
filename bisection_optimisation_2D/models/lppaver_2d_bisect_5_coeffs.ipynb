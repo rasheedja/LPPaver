{
 "cells": [
  {
   "cell_type": "code",
   "execution_count": 1,
   "id": "a75e8309-0b32-475b-bc53-296b1c7131cc",
   "metadata": {},
   "outputs": [
    {
     "data": {
      "text/html": [
       "<div>\n",
       "<style scoped>\n",
       "    .dataframe tbody tr th:only-of-type {\n",
       "        vertical-align: middle;\n",
       "    }\n",
       "\n",
       "    .dataframe tbody tr th {\n",
       "        vertical-align: top;\n",
       "    }\n",
       "\n",
       "    .dataframe thead th {\n",
       "        text-align: right;\n",
       "    }\n",
       "</style>\n",
       "<table border=\"1\" class=\"dataframe\">\n",
       "  <thead>\n",
       "    <tr style=\"text-align: right;\">\n",
       "      <th></th>\n",
       "      <th>P1</th>\n",
       "      <th>P2</th>\n",
       "      <th>P3</th>\n",
       "      <th>P4</th>\n",
       "      <th>P5</th>\n",
       "      <th>Cost</th>\n",
       "    </tr>\n",
       "  </thead>\n",
       "  <tbody>\n",
       "    <tr>\n",
       "      <th>0</th>\n",
       "      <td>-45</td>\n",
       "      <td>107</td>\n",
       "      <td>-45</td>\n",
       "      <td>102</td>\n",
       "      <td>-105</td>\n",
       "      <td>12286.0</td>\n",
       "    </tr>\n",
       "    <tr>\n",
       "      <th>1</th>\n",
       "      <td>-45</td>\n",
       "      <td>107</td>\n",
       "      <td>-45</td>\n",
       "      <td>101</td>\n",
       "      <td>-105</td>\n",
       "      <td>12290.0</td>\n",
       "    </tr>\n",
       "    <tr>\n",
       "      <th>2</th>\n",
       "      <td>-45</td>\n",
       "      <td>107</td>\n",
       "      <td>-45</td>\n",
       "      <td>100</td>\n",
       "      <td>-105</td>\n",
       "      <td>12290.0</td>\n",
       "    </tr>\n",
       "    <tr>\n",
       "      <th>3</th>\n",
       "      <td>-50</td>\n",
       "      <td>102</td>\n",
       "      <td>-49</td>\n",
       "      <td>90</td>\n",
       "      <td>-94</td>\n",
       "      <td>12292.0</td>\n",
       "    </tr>\n",
       "    <tr>\n",
       "      <th>4</th>\n",
       "      <td>-43</td>\n",
       "      <td>98</td>\n",
       "      <td>-41</td>\n",
       "      <td>98</td>\n",
       "      <td>-105</td>\n",
       "      <td>12292.0</td>\n",
       "    </tr>\n",
       "    <tr>\n",
       "      <th>...</th>\n",
       "      <td>...</td>\n",
       "      <td>...</td>\n",
       "      <td>...</td>\n",
       "      <td>...</td>\n",
       "      <td>...</td>\n",
       "      <td>...</td>\n",
       "    </tr>\n",
       "    <tr>\n",
       "      <th>36172</th>\n",
       "      <td>87</td>\n",
       "      <td>-100</td>\n",
       "      <td>56</td>\n",
       "      <td>-87</td>\n",
       "      <td>65</td>\n",
       "      <td>45078.0</td>\n",
       "    </tr>\n",
       "    <tr>\n",
       "      <th>36173</th>\n",
       "      <td>66</td>\n",
       "      <td>-98</td>\n",
       "      <td>51</td>\n",
       "      <td>-63</td>\n",
       "      <td>77</td>\n",
       "      <td>45100.0</td>\n",
       "    </tr>\n",
       "    <tr>\n",
       "      <th>36174</th>\n",
       "      <td>66</td>\n",
       "      <td>-96</td>\n",
       "      <td>51</td>\n",
       "      <td>-63</td>\n",
       "      <td>77</td>\n",
       "      <td>45110.0</td>\n",
       "    </tr>\n",
       "    <tr>\n",
       "      <th>36175</th>\n",
       "      <td>95</td>\n",
       "      <td>-99</td>\n",
       "      <td>37</td>\n",
       "      <td>-71</td>\n",
       "      <td>89</td>\n",
       "      <td>45122.0</td>\n",
       "    </tr>\n",
       "    <tr>\n",
       "      <th>36176</th>\n",
       "      <td>47</td>\n",
       "      <td>-43</td>\n",
       "      <td>65</td>\n",
       "      <td>18</td>\n",
       "      <td>39</td>\n",
       "      <td>54556.0</td>\n",
       "    </tr>\n",
       "  </tbody>\n",
       "</table>\n",
       "<p>36177 rows × 6 columns</p>\n",
       "</div>"
      ],
      "text/plain": [
       "       P1   P2  P3   P4   P5     Cost\n",
       "0     -45  107 -45  102 -105  12286.0\n",
       "1     -45  107 -45  101 -105  12290.0\n",
       "2     -45  107 -45  100 -105  12290.0\n",
       "3     -50  102 -49   90  -94  12292.0\n",
       "4     -43   98 -41   98 -105  12292.0\n",
       "...    ..  ...  ..  ...  ...      ...\n",
       "36172  87 -100  56  -87   65  45078.0\n",
       "36173  66  -98  51  -63   77  45100.0\n",
       "36174  66  -96  51  -63   77  45110.0\n",
       "36175  95  -99  37  -71   89  45122.0\n",
       "36176  47  -43  65   18   39  54556.0\n",
       "\n",
       "[36177 rows x 6 columns]"
      ]
     },
     "execution_count": 1,
     "metadata": {},
     "output_type": "execute_result"
    }
   ],
   "source": [
    "import pandas as pd\n",
    "\n",
    "fp = '../2D_5coeffs.csv'\n",
    "# fp = '../2D-besthalf.csv'\n",
    "df = pd.read_csv(fp)\n",
    "p1 = 'P1'\n",
    "p2 = 'P2'\n",
    "p3 = 'P3'\n",
    "p4 = 'P4'\n",
    "p5 = 'P5'\n",
    "target = df.columns.to_list()[-1]\n",
    "features = df.columns.to_list()[:-1]\n",
    "input_cols = features\n",
    "df"
   ]
  },
  {
   "cell_type": "code",
   "execution_count": 2,
   "id": "1e1df768-25e3-4858-b9d6-1592f5cd4ec9",
   "metadata": {},
   "outputs": [
    {
     "data": {
      "text/html": [
       "<div>\n",
       "<style scoped>\n",
       "    .dataframe tbody tr th:only-of-type {\n",
       "        vertical-align: middle;\n",
       "    }\n",
       "\n",
       "    .dataframe tbody tr th {\n",
       "        vertical-align: top;\n",
       "    }\n",
       "\n",
       "    .dataframe thead th {\n",
       "        text-align: right;\n",
       "    }\n",
       "</style>\n",
       "<table border=\"1\" class=\"dataframe\">\n",
       "  <thead>\n",
       "    <tr style=\"text-align: right;\">\n",
       "      <th></th>\n",
       "      <th>P1</th>\n",
       "      <th>P2</th>\n",
       "      <th>P3</th>\n",
       "      <th>P4</th>\n",
       "      <th>P5</th>\n",
       "      <th>Cost</th>\n",
       "    </tr>\n",
       "  </thead>\n",
       "  <tbody>\n",
       "    <tr>\n",
       "      <th>count</th>\n",
       "      <td>36177.000000</td>\n",
       "      <td>36177.000000</td>\n",
       "      <td>36177.000000</td>\n",
       "      <td>36177.000000</td>\n",
       "      <td>36177.000000</td>\n",
       "      <td>36177.000000</td>\n",
       "    </tr>\n",
       "    <tr>\n",
       "      <th>mean</th>\n",
       "      <td>-38.295851</td>\n",
       "      <td>65.586699</td>\n",
       "      <td>-39.533765</td>\n",
       "      <td>65.111590</td>\n",
       "      <td>-67.706941</td>\n",
       "      <td>14428.408713</td>\n",
       "    </tr>\n",
       "    <tr>\n",
       "      <th>std</th>\n",
       "      <td>33.097651</td>\n",
       "      <td>49.738359</td>\n",
       "      <td>29.165907</td>\n",
       "      <td>38.755047</td>\n",
       "      <td>46.006320</td>\n",
       "      <td>6573.087008</td>\n",
       "    </tr>\n",
       "    <tr>\n",
       "      <th>min</th>\n",
       "      <td>-104.000000</td>\n",
       "      <td>-100.000000</td>\n",
       "      <td>-105.000000</td>\n",
       "      <td>-100.000000</td>\n",
       "      <td>-117.000000</td>\n",
       "      <td>12286.000000</td>\n",
       "    </tr>\n",
       "    <tr>\n",
       "      <th>25%</th>\n",
       "      <td>-54.000000</td>\n",
       "      <td>46.000000</td>\n",
       "      <td>-49.000000</td>\n",
       "      <td>57.000000</td>\n",
       "      <td>-97.000000</td>\n",
       "      <td>12304.000000</td>\n",
       "    </tr>\n",
       "    <tr>\n",
       "      <th>50%</th>\n",
       "      <td>-44.000000</td>\n",
       "      <td>94.000000</td>\n",
       "      <td>-42.000000</td>\n",
       "      <td>73.000000</td>\n",
       "      <td>-84.000000</td>\n",
       "      <td>12362.000000</td>\n",
       "    </tr>\n",
       "    <tr>\n",
       "      <th>75%</th>\n",
       "      <td>-40.000000</td>\n",
       "      <td>98.000000</td>\n",
       "      <td>-38.000000</td>\n",
       "      <td>92.000000</td>\n",
       "      <td>-63.000000</td>\n",
       "      <td>12840.000000</td>\n",
       "    </tr>\n",
       "    <tr>\n",
       "      <th>max</th>\n",
       "      <td>102.000000</td>\n",
       "      <td>111.000000</td>\n",
       "      <td>100.000000</td>\n",
       "      <td>110.000000</td>\n",
       "      <td>102.000000</td>\n",
       "      <td>54556.000000</td>\n",
       "    </tr>\n",
       "  </tbody>\n",
       "</table>\n",
       "</div>"
      ],
      "text/plain": [
       "                 P1            P2            P3            P4            P5  \\\n",
       "count  36177.000000  36177.000000  36177.000000  36177.000000  36177.000000   \n",
       "mean     -38.295851     65.586699    -39.533765     65.111590    -67.706941   \n",
       "std       33.097651     49.738359     29.165907     38.755047     46.006320   \n",
       "min     -104.000000   -100.000000   -105.000000   -100.000000   -117.000000   \n",
       "25%      -54.000000     46.000000    -49.000000     57.000000    -97.000000   \n",
       "50%      -44.000000     94.000000    -42.000000     73.000000    -84.000000   \n",
       "75%      -40.000000     98.000000    -38.000000     92.000000    -63.000000   \n",
       "max      102.000000    111.000000    100.000000    110.000000    102.000000   \n",
       "\n",
       "               Cost  \n",
       "count  36177.000000  \n",
       "mean   14428.408713  \n",
       "std     6573.087008  \n",
       "min    12286.000000  \n",
       "25%    12304.000000  \n",
       "50%    12362.000000  \n",
       "75%    12840.000000  \n",
       "max    54556.000000  "
      ]
     },
     "execution_count": 2,
     "metadata": {},
     "output_type": "execute_result"
    }
   ],
   "source": [
    "df.describe()"
   ]
  },
  {
   "cell_type": "code",
   "execution_count": 3,
   "id": "dd99504b-7eab-41b2-89fb-ffb759aa384d",
   "metadata": {},
   "outputs": [
    {
     "data": {
      "text/plain": [
       "Index(['P1', 'P2', 'P3', 'P4', 'P5', 'Cost'], dtype='object')"
      ]
     },
     "execution_count": 3,
     "metadata": {},
     "output_type": "execute_result"
    }
   ],
   "source": [
    "df.keys()"
   ]
  },
  {
   "cell_type": "code",
   "execution_count": 14,
   "id": "1fe23b6f-55cb-4305-bd92-82c0495c21df",
   "metadata": {},
   "outputs": [],
   "source": [
    "# df.plot(x=p3, y=p4, kind='scatter', c=target)"
   ]
  },
  {
   "cell_type": "code",
   "execution_count": 15,
   "id": "5b25aee9-aba6-428b-a501-b2d2f6473932",
   "metadata": {},
   "outputs": [],
   "source": [
    "# df.hist(column=target,bins=100)"
   ]
  },
  {
   "cell_type": "code",
   "execution_count": 6,
   "id": "12ce77df-8546-4ca4-9863-c668f0473cf7",
   "metadata": {},
   "outputs": [],
   "source": [
    "import seaborn as sns\n",
    "import matplotlib.pyplot as plt\n",
    "\n",
    "# Create the pairplot\n",
    "# g = sns.pairplot(df, hue=target, vars=features, corner=True, palette='viridis',\n",
    "#                 height=5)\n",
    "\n",
    "# # Set y-axes limits for all plots\n",
    "# for i in range(g.axes.shape[0]):\n",
    "#     for j in range(g.axes.shape[1]):\n",
    "#         if j == 0:\n",
    "#             g.axes[i][j].set_ylim(-120, 120)\n",
    "#         if i == g.axes.shape[0]-1:\n",
    "#             g.axes[i][j].set_xlim(-120, 120)\n",
    "\n",
    "# # Display the plot\n",
    "# plt.show()"
   ]
  },
  {
   "cell_type": "code",
   "execution_count": 7,
   "id": "5df7102b-f869-43fb-9610-65894630d1d4",
   "metadata": {},
   "outputs": [],
   "source": [
    "from sklearn.neural_network import MLPRegressor\n",
    "from sklearn.preprocessing import StandardScaler\n",
    "from sklearn.pipeline import Pipeline\n",
    "from sklearn.metrics import r2_score, mean_absolute_error, mean_squared_error\n",
    "from sklearn.model_selection import KFold\n",
    "\n",
    "from sklearn.base import clone\n",
    "from collections import defaultdict\n",
    "\n",
    "def train_cv(model, data, input_cols, n_splits=5, model_log=False):\n",
    "    \"\"\"\n",
    "    Use cross validation.\n",
    "    Train models with n different splits to avg test eval\n",
    "    \"\"\"\n",
    "    cv = KFold(n_splits=n_splits, random_state=seed, shuffle=True)\n",
    "    for (trn_ind, test_ind) in cv.split(data):\n",
    "        trn = data.iloc[trn_ind]\n",
    "        test = data.iloc[test_ind] \n",
    "        pipe = train(model, X_trn=trn[input_cols], y_trn=trn[target],\n",
    "                    model_log=model_log)\n",
    "        yield pipe, evaluate(pipe, X_tst=test[input_cols], y_tst=test[target])\n",
    "\n",
    "def train(model, X_trn, y_trn, model_log=False):\n",
    "    # using a transformer on the outputs (y) to get log VR, this allows\n",
    "    # us to model in log space, but it is automatically reverted for metrics\n",
    "    if model_log == True:\n",
    "        regr = TransformedTargetRegressor(regressor=clone(model),\n",
    "                                          transformer=LogTransformer)\n",
    "    else:\n",
    "        regr = clone(model)\n",
    "    \n",
    "    p = Pipeline(steps=[\n",
    "        ('scale', StandardScaler()), \n",
    "        ('model', regr)])\n",
    "    p.fit(X_trn, y_trn)\n",
    "    return p # return fitted pipeline\n",
    "\n",
    "def evaluate(p: Pipeline, X_tst, y_tst):\n",
    "    \"\"\"return metrics & pipeline (r2, rmse, mae, pipe)\"\"\"\n",
    "    pred = p.predict(X_tst)\n",
    "    return (r2_score(y_tst, pred), \n",
    "            mean_squared_error(y_tst, pred)**0.5, \n",
    "            mean_absolute_error(y_tst, pred))\n",
    "\n",
    "seed = 123\n",
    "\n",
    "model = MLPRegressor(random_state=seed, hidden_layer_sizes=[30,30], solver='lbfgs', alpha=0.0001, max_iter=2500)"
   ]
  },
  {
   "cell_type": "code",
   "execution_count": 8,
   "id": "a8a862ff-7926-4ce8-9ae3-182ee975f471",
   "metadata": {},
   "outputs": [],
   "source": [
    "# import numpy as np\n",
    "# from sklearn.model_selection import ValidationCurveDisplay\n",
    "\n",
    "# _ = ValidationCurveDisplay.from_estimator(\n",
    "#     model,\n",
    "#     df[input_cols],\n",
    "#     df[target],\n",
    "#     param_name=\"alpha\",\n",
    "#     param_range=np.geomspace(1e-7, 1e-3, num=5),\n",
    "#     score_type=\"both\"\n",
    "# )"
   ]
  },
  {
   "cell_type": "code",
   "execution_count": 9,
   "id": "eb5dd2fb-afe4-4758-932f-50e8ef358063",
   "metadata": {},
   "outputs": [],
   "source": [
    "# # Cross-validate the model settings:\n",
    "# resp = train_cv(model, df, input_cols)\n",
    "\n",
    "# results = defaultdict(list)\n",
    "\n",
    "# for pipe, (r2, rmse, mae) in resp:\n",
    "#     results[\"r²\"].append(round(r2, 3))\n",
    "#     results[\"rmse\"].append(round(rmse, 3))\n",
    "#     results[\"mae\"].append(round(mae, 3))\n",
    "\n",
    "# results"
   ]
  },
  {
   "cell_type": "code",
   "execution_count": 10,
   "id": "d0fdbc0a-a4fa-42eb-91e9-7696c9742e02",
   "metadata": {},
   "outputs": [
    {
     "name": "stderr",
     "output_type": "stream",
     "text": [
      "/home/mik/aston/phd/junaidrasheed/LPPaver/bisection_optimisation_2D/models/opt_venv/lib/python3.10/site-packages/sklearn/neural_network/_multilayer_perceptron.py:546: ConvergenceWarning: lbfgs failed to converge (status=1):\n",
      "STOP: TOTAL NO. of ITERATIONS REACHED LIMIT.\n",
      "\n",
      "Increase the number of iterations (max_iter) or scale the data as shown in:\n",
      "    https://scikit-learn.org/stable/modules/preprocessing.html\n",
      "  self.n_iter_ = _check_optimize_result(\"lbfgs\", opt_res, self.max_iter)\n"
     ]
    }
   ],
   "source": [
    "trained_pipe = train(model, df[input_cols], df[target])"
   ]
  },
  {
   "cell_type": "code",
   "execution_count": 11,
   "id": "d82443d0-c073-41d0-bdef-ed1ef344a1e3",
   "metadata": {},
   "outputs": [
    {
     "data": {
      "text/plain": [
       "array([12938.34360957])"
      ]
     },
     "execution_count": 11,
     "metadata": {},
     "output_type": "execute_result"
    }
   ],
   "source": [
    "trained_pipe.predict(pd.DataFrame([[0,100,-100,100,-100]], columns=input_cols))"
   ]
  },
  {
   "cell_type": "code",
   "execution_count": 12,
   "id": "a26e3584-3fb4-47a2-8f66-f95ada06c150",
   "metadata": {},
   "outputs": [
    {
     "data": {
      "text/plain": [
       "['lppaver_2d_bisect_5_coeffs.joblib']"
      ]
     },
     "execution_count": 12,
     "metadata": {},
     "output_type": "execute_result"
    }
   ],
   "source": [
    "from joblib import dump, load\n",
    "\n",
    "dump(trained_pipe, 'lppaver_2d_bisect_5_coeffs.joblib') "
   ]
  },
  {
   "cell_type": "code",
   "execution_count": 13,
   "id": "680a6b65-4c5d-4704-942b-1c28eeebaff5",
   "metadata": {},
   "outputs": [
    {
     "data": {
      "text/plain": [
       "array([12938.34360957])"
      ]
     },
     "execution_count": 13,
     "metadata": {},
     "output_type": "execute_result"
    }
   ],
   "source": [
    "loaded_pipe = load('lppaver_2d_bisect_5_coeffs.joblib')\n",
    "loaded_pipe.predict(pd.DataFrame([[0,100,-100,100,-100]], columns=input_cols))"
   ]
  }
 ],
 "metadata": {
  "kernelspec": {
   "display_name": "Python 3 (ipykernel)",
   "language": "python",
   "name": "python3"
  },
  "language_info": {
   "codemirror_mode": {
    "name": "ipython",
    "version": 3
   },
   "file_extension": ".py",
   "mimetype": "text/x-python",
   "name": "python",
   "nbconvert_exporter": "python",
   "pygments_lexer": "ipython3",
   "version": "3.10.12"
  }
 },
 "nbformat": 4,
 "nbformat_minor": 5
}
